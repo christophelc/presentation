{
 "cells": [
  {
   "cell_type": "code",
   "execution_count": 9,
   "metadata": {},
   "outputs": [
    {
     "data": {
      "text/plain": [
       "myplus (generic function with 1 method)"
      ]
     },
     "execution_count": 9,
     "metadata": {},
     "output_type": "execute_result"
    }
   ],
   "source": [
    "function myplus(x,y)\n",
    "    x+y\n",
    "end"
   ]
  },
  {
   "cell_type": "code",
   "execution_count": 12,
   "metadata": {},
   "outputs": [
    {
     "name": "stdout",
     "output_type": "stream",
     "text": [
      "\n",
      ";  @ In[9]:2 within `myplus'\n",
      "define i64 @julia_myplus_17726(i64, i64) {\n",
      "top:\n",
      "; ┌ @ int.jl:53 within `+'\n",
      "   %2 = add i64 %1, %0\n",
      "; └\n",
      "  ret i64 %2\n",
      "}\n"
     ]
    }
   ],
   "source": [
    "code_llvm(myplus, (Int64, Int64))"
   ]
  },
  {
   "cell_type": "code",
   "execution_count": 13,
   "metadata": {},
   "outputs": [
    {
     "name": "stdout",
     "output_type": "stream",
     "text": [
      "\n",
      ";  @ In[9]:2 within `myplus'\n",
      "define double @julia_myplus_17727(i64, double) {\n",
      "top:\n",
      "; ┌ @ promotion.jl:311 within `+'\n",
      "; │┌ @ promotion.jl:282 within `promote'\n",
      "; ││┌ @ promotion.jl:259 within `_promote'\n",
      "; │││┌ @ number.jl:7 within `convert'\n",
      "; ││││┌ @ float.jl:60 within `Float64'\n",
      "       %2 = sitofp i64 %0 to double\n",
      "; │└└└└\n",
      "; │ @ promotion.jl:311 within `+' @ float.jl:401\n",
      "   %3 = fadd double %2, %1\n",
      "; └\n",
      "  ret double %3\n",
      "}\n"
     ]
    }
   ],
   "source": [
    "code_llvm(myplus, (Int64, Float64))"
   ]
  },
  {
   "cell_type": "code",
   "execution_count": null,
   "metadata": {},
   "outputs": [],
   "source": []
  }
 ],
 "metadata": {
  "kernelspec": {
   "display_name": "Julia 1.4.1",
   "language": "julia",
   "name": "julia-1.4"
  },
  "language_info": {
   "file_extension": ".jl",
   "mimetype": "application/julia",
   "name": "julia",
   "version": "1.4.2"
  }
 },
 "nbformat": 4,
 "nbformat_minor": 4
}
